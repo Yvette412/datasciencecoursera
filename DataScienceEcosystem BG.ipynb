{
 "cells": [
  {
   "cell_type": "markdown",
   "id": "47c5587b-e308-4d94-9a98-9ad20cb2e816",
   "metadata": {},
   "source": [
    "# Data Science Tools and Ecosystem"
   ]
  },
  {
   "cell_type": "markdown",
   "id": "c27890ac-5a54-4f45-8cca-8793f4e316f3",
   "metadata": {},
   "source": [
    "## Author\n",
    "\n",
    "Viviane Yvette Bolaños Gramajo"
   ]
  },
  {
   "cell_type": "markdown",
   "id": "7e9d525e-791b-4779-b95e-713f3a096845",
   "metadata": {},
   "source": [
    "## Introduction\n",
    "In this notebook, Data Science Tools and Ecosystem are summarized.\n"
   ]
  },
  {
   "cell_type": "markdown",
   "id": "5cf69026-1587-4111-8921-68135d51e100",
   "metadata": {},
   "source": [
    "**Objectives:**\n",
    "- Create a Jupyter notebook\n",
    "- Create a title using different styles heading\n",
    "- Summarize Data Science Tools and Ecosystem\n",
    "- List popular languages that Data Scientists use\n",
    "- List commonly used libraries used by Data Scientists\n",
    "- Design a table of Data Science tools\n",
    "- Insert an example of an arithmetic expression\n",
    "- Insert an example for time conversion"
   ]
  },
  {
   "cell_type": "markdown",
   "id": "cdd0c145-0c44-48b9-9120-8a52f15a253a",
   "metadata": {},
   "source": [
    "Some of the popular languages that Data Scientists use are:\n",
    "1. Python\n",
    "2. R\n",
    "3. SQL\n",
    "4. Julia\n",
    "5. Scala"
   ]
  },
  {
   "cell_type": "markdown",
   "id": "9493d405-ad0c-4180-9580-a9409a4303b9",
   "metadata": {},
   "source": [
    "Some of the commonly used libraries used by Data Scientists include:\n",
    "1. Pandas: For data manipulation and analysis.\n",
    "2. NumPy: For numerical computing and working with arrays.\n",
    "3. Matplotlib: For creating visualizations and plots.\n",
    "4. Scikit-learn: For machine learning algorithms and models.\n",
    "5. TensorFlow: For deep learning and neural networks."
   ]
  },
  {
   "cell_type": "markdown",
   "id": "df43337e-b407-44a9-b853-97319ea9a219",
   "metadata": {},
   "source": [
    "| Data Science Tools |\n",
    "|--------------------|\n",
    "| Jupyter Notebook   |\n",
    "| RStudio            |\n",
    "| Apache Spark       |"
   ]
  },
  {
   "cell_type": "markdown",
   "id": "70f053ce-3e94-4d29-9410-f3cef2573666",
   "metadata": {},
   "source": [
    "### Below are a few examples of evaluating arithmetic expressions in Python."
   ]
  },
  {
   "cell_type": "markdown",
   "id": "c46b7cea-f796-40dc-ab04-0c60a90ab2fc",
   "metadata": {},
   "source": [
    "This a simple arithmetic expression to mutiply then add integers:"
   ]
  },
  {
   "cell_type": "code",
   "execution_count": 3,
   "id": "30ea81f0-f19f-4d57-8cbd-79a5b5589c12",
   "metadata": {},
   "outputs": [
    {
     "name": "stdout",
     "output_type": "stream",
     "text": [
      "17\n"
     ]
    }
   ],
   "source": [
    "expresion = (3 * 4) + 5\n",
    "print(expresion)"
   ]
  },
  {
   "cell_type": "markdown",
   "id": "b53d4878-1632-4c08-9ba0-8bf66f0d08fb",
   "metadata": {},
   "source": [
    "This will convert 200 minutes to hours by diving by 60:"
   ]
  },
  {
   "cell_type": "code",
   "execution_count": 6,
   "id": "a7deaded-c6ba-498f-aa96-7c584cb71bb1",
   "metadata": {},
   "outputs": [
    {
     "name": "stdout",
     "output_type": "stream",
     "text": [
      "3.3333333333333335\n"
     ]
    }
   ],
   "source": [
    "minutes = 200\n",
    "hours = minutes / 60\n",
    "print(hours)"
   ]
  },
  {
   "cell_type": "code",
   "execution_count": null,
   "id": "bcb46e73-5b7e-4e7d-b1a7-11d273ee16c9",
   "metadata": {},
   "outputs": [],
   "source": []
  }
 ],
 "metadata": {
  "kernelspec": {
   "display_name": "Python 3 (ipykernel)",
   "language": "python",
   "name": "python3"
  },
  "language_info": {
   "codemirror_mode": {
    "name": "ipython",
    "version": 3
   },
   "file_extension": ".py",
   "mimetype": "text/x-python",
   "name": "python",
   "nbconvert_exporter": "python",
   "pygments_lexer": "ipython3",
   "version": "3.12.7"
  }
 },
 "nbformat": 4,
 "nbformat_minor": 5
}
